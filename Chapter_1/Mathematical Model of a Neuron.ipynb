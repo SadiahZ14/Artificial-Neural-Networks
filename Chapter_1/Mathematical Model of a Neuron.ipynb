{
 "cells": [
  {
   "cell_type": "markdown",
   "metadata": {},
   "source": [
    "# Mathematical Model of a neuron:\n",
    "\n",
    "A neuron can be modeled as a function  $f$  that takes a vector of inputs  $\\mathbf{x}$  and produces an output  $\\mathbf{y}$ . <br>\n",
    "The function  $f$ consists of two main parts: \n",
    " - The linear combination of inputs and weights, and \n",
    " - The application of an activation function. \n",
    " \n",
    "Here’s the step-by-step breakdown:"
   ]
  },
  {
   "cell_type": "markdown",
   "metadata": {},
   "source": [
    "### 1. Linear Combination (Affine Transformation)\n"
   ]
  },
  {
   "cell_type": "markdown",
   "metadata": {},
   "source": [
    "This is the first step where the inputs are combined with the corresponding weights and a bias is added.\n",
    "\n",
    "- **Equation**: \n",
    "$\n",
    "z = \\mathbf{w}^\\top \\mathbf{x} + b\n",
    "$\n",
    "\n",
    "- **Variables**:\n",
    "- $ \\mathbf{x} $ is the vector of inputs $[x_1, x_2, \\ldots, x_n]$,\n",
    "- $ \\mathbf{w} $ is the vector of weights $[w_1, w_2, \\ldots, w_n]$,\n",
    "- $ b $ is the bias,\n",
    "- $ z $ is the weighted sum.\n",
    "\n",
    "The multiplication of the weights and inputs can be expanded as:\n",
    "\n",
    "$\n",
    "z = w_1 \\cdot x_1 + w_2 \\cdot x_2 + \\ldots + w_n \\cdot x_n + b\n",
    "$\n",
    "\n",
    "This represents the dot product of the weights vector $ \\mathbf{w} $ with the inputs vector $ \\mathbf{x} $, followed by adding the bias $ b $."
   ]
  },
  {
   "cell_type": "markdown",
   "metadata": {},
   "source": [
    "### 2. Activation Function"
   ]
  },
  {
   "cell_type": "markdown",
   "metadata": {},
   "source": [
    "The weighted sum $z$ is then passed through an activation function $g$ to introduce non-linearity and make complex pattern learning possible.\n",
    "\n",
    "- **Activation Function Application**:  \n",
    "\n",
    "  $\n",
    "  \\mathbf{y} = g(z)\n",
    "  $\n",
    "\n",
    "- **Details**:\n",
    "  - $g$ is the activation function (e.g., sigmoid, tanh, ReLU),\n",
    "  - $\\mathbf{y}$ is the output of the neuron."
   ]
  },
  {
   "cell_type": "markdown",
   "metadata": {},
   "source": [
    "### Combined Neuron Function"
   ]
  },
  {
   "cell_type": "markdown",
   "metadata": {},
   "source": [
    "\n",
    "Combining the above components, the function of a neuron $f$ can be described as:\n",
    "\n",
    "$\n",
    "f(\\mathbf{x}) = g(\\mathbf{w}^\\top \\mathbf{x} + b)\n",
    "$\n",
    "\n",
    "This function encapsulates the entire operation of a neuron in an ANN, from input to output. It highlights how each neuron processes its inputs to produce an output that is dependent on both the learned parameters (weights and biases) and the chosen non-linear transformation (activation function)."
   ]
  }
 ],
 "metadata": {
  "language_info": {
   "name": "python"
  }
 },
 "nbformat": 4,
 "nbformat_minor": 2
}
